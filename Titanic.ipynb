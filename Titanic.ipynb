{
 "cells": [
  {
   "cell_type": "markdown",
   "id": "1c1f06f2",
   "metadata": {},
   "source": [
    "## Титаник "
   ]
  },
  {
   "cell_type": "markdown",
   "id": "905a4535",
   "metadata": {
    "id": "dadfd887"
   },
   "source": [
    "##### Задача: \n",
    "\n",
    "Обучить модель определять, кто из пассажиров Титаника выживет после крушения корабля"
   ]
  },
  {
   "cell_type": "markdown",
   "id": "445aee9e",
   "metadata": {
    "id": "d5hW44JNVhA_"
   },
   "source": [
    "На выходе необходимо получить список пассажиров с разметкой выживших/не выживших"
   ]
  },
  {
   "cell_type": "markdown",
   "id": "0c055225",
   "metadata": {
    "id": "b196cb1a"
   },
   "source": [
    "##### Описание данных"
   ]
  },
  {
   "cell_type": "markdown",
   "id": "9de22df3",
   "metadata": {},
   "source": [
    "* survival - Survival\n",
    "* pclass - Ticket class\n",
    "* sex - Sex\n",
    "* Age - Age in years\n",
    "* sibsp - # of siblings / spouses aboard the Titanic\n",
    "* parch - # of parents / children aboard the Titanic\n",
    "* ticket - Ticket number\n",
    "* fare - Passenger fare\n",
    "* cabin - Cabin number\n",
    "* embarked - Port of Embarkation"
   ]
  },
  {
   "cell_type": "markdown",
   "id": "a06e5ce7",
   "metadata": {},
   "source": [
    "Для начала необходимо установить зависимости"
   ]
  },
  {
   "cell_type": "code",
   "execution_count": 1,
   "id": "7e6243ed",
   "metadata": {},
   "outputs": [
    {
     "name": "stdout",
     "output_type": "stream",
     "text": [
      "Requirement already satisfied: numpy==1.23.5 in d:\\ds_it\\anaconda\\lib\\site-packages (from -r requirements.txt (line 1)) (1.23.5)\n",
      "Note: you may need to restart the kernel to use updated packages.\n"
     ]
    }
   ],
   "source": [
    "pip install -r requirements.txt"
   ]
  },
  {
   "cell_type": "markdown",
   "id": "a2e0c6b3",
   "metadata": {},
   "source": [
    "## Импорт модулей"
   ]
  },
  {
   "cell_type": "code",
   "execution_count": 94,
   "id": "b99852b9",
   "metadata": {},
   "outputs": [
    {
     "name": "stdout",
     "output_type": "stream",
     "text": [
      "Populating the interactive namespace from numpy and matplotlib\n"
     ]
    }
   ],
   "source": [
    "import pandas as pd\n",
    "import numpy as np\n",
    "from numpy.linalg import inv, matrix_power\n",
    "from linear_regression import LinearRegression\n",
    "from linear_classification import LinearClassification\n",
    "from sklearn.metrics import confusion_matrix, accuracy_score, precision_score, recall_score, f1_score\n",
    "\n",
    "from matplotlib import pyplot as plt\n",
    "import seaborn as sns\n",
    "from scipy import stats\n",
    "%pylab inline"
   ]
  },
  {
   "cell_type": "markdown",
   "id": "e24f27ea",
   "metadata": {},
   "source": [
    "## Чтение данных"
   ]
  },
  {
   "cell_type": "code",
   "execution_count": 3,
   "id": "7049b64f",
   "metadata": {},
   "outputs": [],
   "source": [
    "df_train = pd.read_csv('train.csv', index_col=0)\n",
    "df_test = pd.read_csv('test.csv', index_col=0)"
   ]
  },
  {
   "cell_type": "markdown",
   "id": "7b09d766",
   "metadata": {
    "id": "5aada9b2"
   },
   "source": [
    "## Анализ и предобработка данных"
   ]
  },
  {
   "cell_type": "code",
   "execution_count": 4,
   "id": "9f096bc7",
   "metadata": {},
   "outputs": [
    {
     "data": {
      "text/plain": [
       "(891, 11)"
      ]
     },
     "execution_count": 4,
     "metadata": {},
     "output_type": "execute_result"
    }
   ],
   "source": [
    "df_train.shape"
   ]
  },
  {
   "cell_type": "code",
   "execution_count": 5,
   "id": "361a5230",
   "metadata": {},
   "outputs": [
    {
     "data": {
      "text/html": [
       "<div>\n",
       "<style scoped>\n",
       "    .dataframe tbody tr th:only-of-type {\n",
       "        vertical-align: middle;\n",
       "    }\n",
       "\n",
       "    .dataframe tbody tr th {\n",
       "        vertical-align: top;\n",
       "    }\n",
       "\n",
       "    .dataframe thead th {\n",
       "        text-align: right;\n",
       "    }\n",
       "</style>\n",
       "<table border=\"1\" class=\"dataframe\">\n",
       "  <thead>\n",
       "    <tr style=\"text-align: right;\">\n",
       "      <th></th>\n",
       "      <th>Survived</th>\n",
       "      <th>Pclass</th>\n",
       "      <th>Name</th>\n",
       "      <th>Sex</th>\n",
       "      <th>Age</th>\n",
       "      <th>SibSp</th>\n",
       "      <th>Parch</th>\n",
       "      <th>Ticket</th>\n",
       "      <th>Fare</th>\n",
       "      <th>Cabin</th>\n",
       "      <th>Embarked</th>\n",
       "    </tr>\n",
       "    <tr>\n",
       "      <th>PassengerId</th>\n",
       "      <th></th>\n",
       "      <th></th>\n",
       "      <th></th>\n",
       "      <th></th>\n",
       "      <th></th>\n",
       "      <th></th>\n",
       "      <th></th>\n",
       "      <th></th>\n",
       "      <th></th>\n",
       "      <th></th>\n",
       "      <th></th>\n",
       "    </tr>\n",
       "  </thead>\n",
       "  <tbody>\n",
       "    <tr>\n",
       "      <th>661</th>\n",
       "      <td>1</td>\n",
       "      <td>1</td>\n",
       "      <td>Frauenthal, Dr. Henry William</td>\n",
       "      <td>male</td>\n",
       "      <td>50.0</td>\n",
       "      <td>2</td>\n",
       "      <td>0</td>\n",
       "      <td>PC 17611</td>\n",
       "      <td>133.6500</td>\n",
       "      <td>NaN</td>\n",
       "      <td>S</td>\n",
       "    </tr>\n",
       "    <tr>\n",
       "      <th>216</th>\n",
       "      <td>1</td>\n",
       "      <td>1</td>\n",
       "      <td>Newell, Miss. Madeleine</td>\n",
       "      <td>female</td>\n",
       "      <td>31.0</td>\n",
       "      <td>1</td>\n",
       "      <td>0</td>\n",
       "      <td>35273</td>\n",
       "      <td>113.2750</td>\n",
       "      <td>D36</td>\n",
       "      <td>C</td>\n",
       "    </tr>\n",
       "    <tr>\n",
       "      <th>765</th>\n",
       "      <td>0</td>\n",
       "      <td>3</td>\n",
       "      <td>Eklund, Mr. Hans Linus</td>\n",
       "      <td>male</td>\n",
       "      <td>16.0</td>\n",
       "      <td>0</td>\n",
       "      <td>0</td>\n",
       "      <td>347074</td>\n",
       "      <td>7.7750</td>\n",
       "      <td>NaN</td>\n",
       "      <td>S</td>\n",
       "    </tr>\n",
       "    <tr>\n",
       "      <th>298</th>\n",
       "      <td>0</td>\n",
       "      <td>1</td>\n",
       "      <td>Allison, Miss. Helen Loraine</td>\n",
       "      <td>female</td>\n",
       "      <td>2.0</td>\n",
       "      <td>1</td>\n",
       "      <td>2</td>\n",
       "      <td>113781</td>\n",
       "      <td>151.5500</td>\n",
       "      <td>C22 C26</td>\n",
       "      <td>S</td>\n",
       "    </tr>\n",
       "    <tr>\n",
       "      <th>182</th>\n",
       "      <td>0</td>\n",
       "      <td>2</td>\n",
       "      <td>Pernot, Mr. Rene</td>\n",
       "      <td>male</td>\n",
       "      <td>NaN</td>\n",
       "      <td>0</td>\n",
       "      <td>0</td>\n",
       "      <td>SC/PARIS 2131</td>\n",
       "      <td>15.0500</td>\n",
       "      <td>NaN</td>\n",
       "      <td>C</td>\n",
       "    </tr>\n",
       "    <tr>\n",
       "      <th>763</th>\n",
       "      <td>1</td>\n",
       "      <td>3</td>\n",
       "      <td>Barah, Mr. Hanna Assi</td>\n",
       "      <td>male</td>\n",
       "      <td>20.0</td>\n",
       "      <td>0</td>\n",
       "      <td>0</td>\n",
       "      <td>2663</td>\n",
       "      <td>7.2292</td>\n",
       "      <td>NaN</td>\n",
       "      <td>C</td>\n",
       "    </tr>\n",
       "    <tr>\n",
       "      <th>510</th>\n",
       "      <td>1</td>\n",
       "      <td>3</td>\n",
       "      <td>Lang, Mr. Fang</td>\n",
       "      <td>male</td>\n",
       "      <td>26.0</td>\n",
       "      <td>0</td>\n",
       "      <td>0</td>\n",
       "      <td>1601</td>\n",
       "      <td>56.4958</td>\n",
       "      <td>NaN</td>\n",
       "      <td>S</td>\n",
       "    </tr>\n",
       "  </tbody>\n",
       "</table>\n",
       "</div>"
      ],
      "text/plain": [
       "             Survived  Pclass                           Name     Sex   Age  \\\n",
       "PassengerId                                                                  \n",
       "661                 1       1  Frauenthal, Dr. Henry William    male  50.0   \n",
       "216                 1       1        Newell, Miss. Madeleine  female  31.0   \n",
       "765                 0       3         Eklund, Mr. Hans Linus    male  16.0   \n",
       "298                 0       1   Allison, Miss. Helen Loraine  female   2.0   \n",
       "182                 0       2               Pernot, Mr. Rene    male   NaN   \n",
       "763                 1       3          Barah, Mr. Hanna Assi    male  20.0   \n",
       "510                 1       3                 Lang, Mr. Fang    male  26.0   \n",
       "\n",
       "             SibSp  Parch         Ticket      Fare    Cabin Embarked  \n",
       "PassengerId                                                           \n",
       "661              2      0       PC 17611  133.6500      NaN        S  \n",
       "216              1      0          35273  113.2750      D36        C  \n",
       "765              0      0         347074    7.7750      NaN        S  \n",
       "298              1      2         113781  151.5500  C22 C26        S  \n",
       "182              0      0  SC/PARIS 2131   15.0500      NaN        C  \n",
       "763              0      0           2663    7.2292      NaN        C  \n",
       "510              0      0           1601   56.4958      NaN        S  "
      ]
     },
     "execution_count": 5,
     "metadata": {},
     "output_type": "execute_result"
    }
   ],
   "source": [
    "df_train.sample(7)"
   ]
  },
  {
   "cell_type": "code",
   "execution_count": 6,
   "id": "583aa774",
   "metadata": {},
   "outputs": [
    {
     "data": {
      "text/html": [
       "<div>\n",
       "<style scoped>\n",
       "    .dataframe tbody tr th:only-of-type {\n",
       "        vertical-align: middle;\n",
       "    }\n",
       "\n",
       "    .dataframe tbody tr th {\n",
       "        vertical-align: top;\n",
       "    }\n",
       "\n",
       "    .dataframe thead th {\n",
       "        text-align: right;\n",
       "    }\n",
       "</style>\n",
       "<table border=\"1\" class=\"dataframe\">\n",
       "  <thead>\n",
       "    <tr style=\"text-align: right;\">\n",
       "      <th></th>\n",
       "      <th>Survived</th>\n",
       "      <th>Pclass</th>\n",
       "      <th>Age</th>\n",
       "      <th>SibSp</th>\n",
       "      <th>Parch</th>\n",
       "      <th>Fare</th>\n",
       "    </tr>\n",
       "  </thead>\n",
       "  <tbody>\n",
       "    <tr>\n",
       "      <th>count</th>\n",
       "      <td>891.000000</td>\n",
       "      <td>891.000000</td>\n",
       "      <td>714.000000</td>\n",
       "      <td>891.000000</td>\n",
       "      <td>891.000000</td>\n",
       "      <td>891.000000</td>\n",
       "    </tr>\n",
       "    <tr>\n",
       "      <th>mean</th>\n",
       "      <td>0.383838</td>\n",
       "      <td>2.308642</td>\n",
       "      <td>29.699118</td>\n",
       "      <td>0.523008</td>\n",
       "      <td>0.381594</td>\n",
       "      <td>32.204208</td>\n",
       "    </tr>\n",
       "    <tr>\n",
       "      <th>std</th>\n",
       "      <td>0.486592</td>\n",
       "      <td>0.836071</td>\n",
       "      <td>14.526497</td>\n",
       "      <td>1.102743</td>\n",
       "      <td>0.806057</td>\n",
       "      <td>49.693429</td>\n",
       "    </tr>\n",
       "    <tr>\n",
       "      <th>min</th>\n",
       "      <td>0.000000</td>\n",
       "      <td>1.000000</td>\n",
       "      <td>0.420000</td>\n",
       "      <td>0.000000</td>\n",
       "      <td>0.000000</td>\n",
       "      <td>0.000000</td>\n",
       "    </tr>\n",
       "    <tr>\n",
       "      <th>25%</th>\n",
       "      <td>0.000000</td>\n",
       "      <td>2.000000</td>\n",
       "      <td>20.125000</td>\n",
       "      <td>0.000000</td>\n",
       "      <td>0.000000</td>\n",
       "      <td>7.910400</td>\n",
       "    </tr>\n",
       "    <tr>\n",
       "      <th>50%</th>\n",
       "      <td>0.000000</td>\n",
       "      <td>3.000000</td>\n",
       "      <td>28.000000</td>\n",
       "      <td>0.000000</td>\n",
       "      <td>0.000000</td>\n",
       "      <td>14.454200</td>\n",
       "    </tr>\n",
       "    <tr>\n",
       "      <th>75%</th>\n",
       "      <td>1.000000</td>\n",
       "      <td>3.000000</td>\n",
       "      <td>38.000000</td>\n",
       "      <td>1.000000</td>\n",
       "      <td>0.000000</td>\n",
       "      <td>31.000000</td>\n",
       "    </tr>\n",
       "    <tr>\n",
       "      <th>max</th>\n",
       "      <td>1.000000</td>\n",
       "      <td>3.000000</td>\n",
       "      <td>80.000000</td>\n",
       "      <td>8.000000</td>\n",
       "      <td>6.000000</td>\n",
       "      <td>512.329200</td>\n",
       "    </tr>\n",
       "  </tbody>\n",
       "</table>\n",
       "</div>"
      ],
      "text/plain": [
       "         Survived      Pclass         Age       SibSp       Parch        Fare\n",
       "count  891.000000  891.000000  714.000000  891.000000  891.000000  891.000000\n",
       "mean     0.383838    2.308642   29.699118    0.523008    0.381594   32.204208\n",
       "std      0.486592    0.836071   14.526497    1.102743    0.806057   49.693429\n",
       "min      0.000000    1.000000    0.420000    0.000000    0.000000    0.000000\n",
       "25%      0.000000    2.000000   20.125000    0.000000    0.000000    7.910400\n",
       "50%      0.000000    3.000000   28.000000    0.000000    0.000000   14.454200\n",
       "75%      1.000000    3.000000   38.000000    1.000000    0.000000   31.000000\n",
       "max      1.000000    3.000000   80.000000    8.000000    6.000000  512.329200"
      ]
     },
     "execution_count": 6,
     "metadata": {},
     "output_type": "execute_result"
    }
   ],
   "source": [
    "# Посмотрю на статистики\n",
    "\n",
    "df_train.describe()"
   ]
  },
  {
   "cell_type": "code",
   "execution_count": 7,
   "id": "72b50644",
   "metadata": {},
   "outputs": [
    {
     "data": {
      "text/plain": [
       "342"
      ]
     },
     "execution_count": 7,
     "metadata": {},
     "output_type": "execute_result"
    }
   ],
   "source": [
    "# Количество выживших\n",
    "len(df_train.loc[df_train['Survived'] == 1])"
   ]
  },
  {
   "cell_type": "code",
   "execution_count": 8,
   "id": "8c07e12b",
   "metadata": {},
   "outputs": [
    {
     "data": {
      "text/plain": [
       "549"
      ]
     },
     "execution_count": 8,
     "metadata": {},
     "output_type": "execute_result"
    }
   ],
   "source": [
    "# Количество не выживших\n",
    "len(df_train.loc[df_train['Survived'] == 0])"
   ]
  },
  {
   "cell_type": "code",
   "execution_count": 9,
   "id": "8dc12209",
   "metadata": {},
   "outputs": [
    {
     "data": {
      "text/plain": [
       "0"
      ]
     },
     "execution_count": 9,
     "metadata": {},
     "output_type": "execute_result"
    }
   ],
   "source": [
    "df_train.duplicated().sum() # повторов нет"
   ]
  },
  {
   "cell_type": "markdown",
   "id": "d8ceeb4c",
   "metadata": {},
   "source": [
    "Посмотрю на пропуски в данных и обработаю их"
   ]
  },
  {
   "cell_type": "code",
   "execution_count": 10,
   "id": "cbd6a393",
   "metadata": {},
   "outputs": [
    {
     "data": {
      "text/plain": [
       "Survived      0\n",
       "Pclass        0\n",
       "Name          0\n",
       "Sex           0\n",
       "Age         177\n",
       "SibSp         0\n",
       "Parch         0\n",
       "Ticket        0\n",
       "Fare          0\n",
       "Cabin       687\n",
       "Embarked      2\n",
       "dtype: int64"
      ]
     },
     "execution_count": 10,
     "metadata": {},
     "output_type": "execute_result"
    }
   ],
   "source": [
    "df_train.isna().sum()"
   ]
  },
  {
   "cell_type": "code",
   "execution_count": 11,
   "id": "58cadf7d",
   "metadata": {},
   "outputs": [
    {
     "data": {
      "text/plain": [
       "array([nan, 'C85', 'C123', 'E46', 'G6', 'C103', 'D56', 'A6',\n",
       "       'C23 C25 C27', 'B78', 'D33', 'B30', 'C52', 'B28', 'C83', 'F33',\n",
       "       'F G73', 'E31', 'A5', 'D10 D12', 'D26', 'C110', 'B58 B60', 'E101',\n",
       "       'F E69', 'D47', 'B86', 'F2', 'C2', 'E33', 'B19', 'A7', 'C49', 'F4',\n",
       "       'A32', 'B4', 'B80', 'A31', 'D36', 'D15', 'C93', 'C78', 'D35',\n",
       "       'C87', 'B77', 'E67', 'B94', 'C125', 'C99', 'C118', 'D7', 'A19',\n",
       "       'B49', 'D', 'C22 C26', 'C106', 'C65', 'E36', 'C54',\n",
       "       'B57 B59 B63 B66', 'C7', 'E34', 'C32', 'B18', 'C124', 'C91', 'E40',\n",
       "       'T', 'C128', 'D37', 'B35', 'E50', 'C82', 'B96 B98', 'E10', 'E44',\n",
       "       'A34', 'C104', 'C111', 'C92', 'E38', 'D21', 'E12', 'E63', 'A14',\n",
       "       'B37', 'C30', 'D20', 'B79', 'E25', 'D46', 'B73', 'C95', 'B38',\n",
       "       'B39', 'B22', 'C86', 'C70', 'A16', 'C101', 'C68', 'A10', 'E68',\n",
       "       'B41', 'A20', 'D19', 'D50', 'D9', 'A23', 'B50', 'A26', 'D48',\n",
       "       'E58', 'C126', 'B71', 'B51 B53 B55', 'D49', 'B5', 'B20', 'F G63',\n",
       "       'C62 C64', 'E24', 'C90', 'C45', 'E8', 'B101', 'D45', 'C46', 'D30',\n",
       "       'E121', 'D11', 'E77', 'F38', 'B3', 'D6', 'B82 B84', 'D17', 'A36',\n",
       "       'B102', 'B69', 'E49', 'C47', 'D28', 'E17', 'A24', 'C50', 'B42',\n",
       "       'C148'], dtype=object)"
      ]
     },
     "execution_count": 11,
     "metadata": {},
     "output_type": "execute_result"
    }
   ],
   "source": [
    "df_train.Cabin.unique()"
   ]
  },
  {
   "cell_type": "code",
   "execution_count": 12,
   "id": "807ac51d",
   "metadata": {},
   "outputs": [
    {
     "data": {
      "text/html": [
       "<div>\n",
       "<style scoped>\n",
       "    .dataframe tbody tr th:only-of-type {\n",
       "        vertical-align: middle;\n",
       "    }\n",
       "\n",
       "    .dataframe tbody tr th {\n",
       "        vertical-align: top;\n",
       "    }\n",
       "\n",
       "    .dataframe thead th {\n",
       "        text-align: right;\n",
       "    }\n",
       "</style>\n",
       "<table border=\"1\" class=\"dataframe\">\n",
       "  <thead>\n",
       "    <tr style=\"text-align: right;\">\n",
       "      <th></th>\n",
       "      <th>Survived</th>\n",
       "      <th>Pclass</th>\n",
       "      <th>Name</th>\n",
       "      <th>Sex</th>\n",
       "      <th>Age</th>\n",
       "      <th>SibSp</th>\n",
       "      <th>Parch</th>\n",
       "      <th>Ticket</th>\n",
       "      <th>Fare</th>\n",
       "      <th>Cabin</th>\n",
       "      <th>Embarked</th>\n",
       "    </tr>\n",
       "    <tr>\n",
       "      <th>PassengerId</th>\n",
       "      <th></th>\n",
       "      <th></th>\n",
       "      <th></th>\n",
       "      <th></th>\n",
       "      <th></th>\n",
       "      <th></th>\n",
       "      <th></th>\n",
       "      <th></th>\n",
       "      <th></th>\n",
       "      <th></th>\n",
       "      <th></th>\n",
       "    </tr>\n",
       "  </thead>\n",
       "  <tbody>\n",
       "    <tr>\n",
       "      <th>2</th>\n",
       "      <td>1</td>\n",
       "      <td>1</td>\n",
       "      <td>Cumings, Mrs. John Bradley (Florence Briggs Th...</td>\n",
       "      <td>female</td>\n",
       "      <td>38.0</td>\n",
       "      <td>1</td>\n",
       "      <td>0</td>\n",
       "      <td>PC 17599</td>\n",
       "      <td>71.2833</td>\n",
       "      <td>C85</td>\n",
       "      <td>C</td>\n",
       "    </tr>\n",
       "    <tr>\n",
       "      <th>4</th>\n",
       "      <td>1</td>\n",
       "      <td>1</td>\n",
       "      <td>Futrelle, Mrs. Jacques Heath (Lily May Peel)</td>\n",
       "      <td>female</td>\n",
       "      <td>35.0</td>\n",
       "      <td>1</td>\n",
       "      <td>0</td>\n",
       "      <td>113803</td>\n",
       "      <td>53.1000</td>\n",
       "      <td>C123</td>\n",
       "      <td>S</td>\n",
       "    </tr>\n",
       "    <tr>\n",
       "      <th>7</th>\n",
       "      <td>0</td>\n",
       "      <td>1</td>\n",
       "      <td>McCarthy, Mr. Timothy J</td>\n",
       "      <td>male</td>\n",
       "      <td>54.0</td>\n",
       "      <td>0</td>\n",
       "      <td>0</td>\n",
       "      <td>17463</td>\n",
       "      <td>51.8625</td>\n",
       "      <td>E46</td>\n",
       "      <td>S</td>\n",
       "    </tr>\n",
       "    <tr>\n",
       "      <th>11</th>\n",
       "      <td>1</td>\n",
       "      <td>3</td>\n",
       "      <td>Sandstrom, Miss. Marguerite Rut</td>\n",
       "      <td>female</td>\n",
       "      <td>4.0</td>\n",
       "      <td>1</td>\n",
       "      <td>1</td>\n",
       "      <td>PP 9549</td>\n",
       "      <td>16.7000</td>\n",
       "      <td>G6</td>\n",
       "      <td>S</td>\n",
       "    </tr>\n",
       "    <tr>\n",
       "      <th>12</th>\n",
       "      <td>1</td>\n",
       "      <td>1</td>\n",
       "      <td>Bonnell, Miss. Elizabeth</td>\n",
       "      <td>female</td>\n",
       "      <td>58.0</td>\n",
       "      <td>0</td>\n",
       "      <td>0</td>\n",
       "      <td>113783</td>\n",
       "      <td>26.5500</td>\n",
       "      <td>C103</td>\n",
       "      <td>S</td>\n",
       "    </tr>\n",
       "    <tr>\n",
       "      <th>...</th>\n",
       "      <td>...</td>\n",
       "      <td>...</td>\n",
       "      <td>...</td>\n",
       "      <td>...</td>\n",
       "      <td>...</td>\n",
       "      <td>...</td>\n",
       "      <td>...</td>\n",
       "      <td>...</td>\n",
       "      <td>...</td>\n",
       "      <td>...</td>\n",
       "      <td>...</td>\n",
       "    </tr>\n",
       "    <tr>\n",
       "      <th>872</th>\n",
       "      <td>1</td>\n",
       "      <td>1</td>\n",
       "      <td>Beckwith, Mrs. Richard Leonard (Sallie Monypeny)</td>\n",
       "      <td>female</td>\n",
       "      <td>47.0</td>\n",
       "      <td>1</td>\n",
       "      <td>1</td>\n",
       "      <td>11751</td>\n",
       "      <td>52.5542</td>\n",
       "      <td>D35</td>\n",
       "      <td>S</td>\n",
       "    </tr>\n",
       "    <tr>\n",
       "      <th>873</th>\n",
       "      <td>0</td>\n",
       "      <td>1</td>\n",
       "      <td>Carlsson, Mr. Frans Olof</td>\n",
       "      <td>male</td>\n",
       "      <td>33.0</td>\n",
       "      <td>0</td>\n",
       "      <td>0</td>\n",
       "      <td>695</td>\n",
       "      <td>5.0000</td>\n",
       "      <td>B51 B53 B55</td>\n",
       "      <td>S</td>\n",
       "    </tr>\n",
       "    <tr>\n",
       "      <th>880</th>\n",
       "      <td>1</td>\n",
       "      <td>1</td>\n",
       "      <td>Potter, Mrs. Thomas Jr (Lily Alexenia Wilson)</td>\n",
       "      <td>female</td>\n",
       "      <td>56.0</td>\n",
       "      <td>0</td>\n",
       "      <td>1</td>\n",
       "      <td>11767</td>\n",
       "      <td>83.1583</td>\n",
       "      <td>C50</td>\n",
       "      <td>C</td>\n",
       "    </tr>\n",
       "    <tr>\n",
       "      <th>888</th>\n",
       "      <td>1</td>\n",
       "      <td>1</td>\n",
       "      <td>Graham, Miss. Margaret Edith</td>\n",
       "      <td>female</td>\n",
       "      <td>19.0</td>\n",
       "      <td>0</td>\n",
       "      <td>0</td>\n",
       "      <td>112053</td>\n",
       "      <td>30.0000</td>\n",
       "      <td>B42</td>\n",
       "      <td>S</td>\n",
       "    </tr>\n",
       "    <tr>\n",
       "      <th>890</th>\n",
       "      <td>1</td>\n",
       "      <td>1</td>\n",
       "      <td>Behr, Mr. Karl Howell</td>\n",
       "      <td>male</td>\n",
       "      <td>26.0</td>\n",
       "      <td>0</td>\n",
       "      <td>0</td>\n",
       "      <td>111369</td>\n",
       "      <td>30.0000</td>\n",
       "      <td>C148</td>\n",
       "      <td>C</td>\n",
       "    </tr>\n",
       "  </tbody>\n",
       "</table>\n",
       "<p>204 rows × 11 columns</p>\n",
       "</div>"
      ],
      "text/plain": [
       "             Survived  Pclass  \\\n",
       "PassengerId                     \n",
       "2                   1       1   \n",
       "4                   1       1   \n",
       "7                   0       1   \n",
       "11                  1       3   \n",
       "12                  1       1   \n",
       "...               ...     ...   \n",
       "872                 1       1   \n",
       "873                 0       1   \n",
       "880                 1       1   \n",
       "888                 1       1   \n",
       "890                 1       1   \n",
       "\n",
       "                                                          Name     Sex   Age  \\\n",
       "PassengerId                                                                    \n",
       "2            Cumings, Mrs. John Bradley (Florence Briggs Th...  female  38.0   \n",
       "4                 Futrelle, Mrs. Jacques Heath (Lily May Peel)  female  35.0   \n",
       "7                                      McCarthy, Mr. Timothy J    male  54.0   \n",
       "11                             Sandstrom, Miss. Marguerite Rut  female   4.0   \n",
       "12                                    Bonnell, Miss. Elizabeth  female  58.0   \n",
       "...                                                        ...     ...   ...   \n",
       "872           Beckwith, Mrs. Richard Leonard (Sallie Monypeny)  female  47.0   \n",
       "873                                   Carlsson, Mr. Frans Olof    male  33.0   \n",
       "880              Potter, Mrs. Thomas Jr (Lily Alexenia Wilson)  female  56.0   \n",
       "888                               Graham, Miss. Margaret Edith  female  19.0   \n",
       "890                                      Behr, Mr. Karl Howell    male  26.0   \n",
       "\n",
       "             SibSp  Parch    Ticket     Fare        Cabin Embarked  \n",
       "PassengerId                                                         \n",
       "2                1      0  PC 17599  71.2833          C85        C  \n",
       "4                1      0    113803  53.1000         C123        S  \n",
       "7                0      0     17463  51.8625          E46        S  \n",
       "11               1      1   PP 9549  16.7000           G6        S  \n",
       "12               0      0    113783  26.5500         C103        S  \n",
       "...            ...    ...       ...      ...          ...      ...  \n",
       "872              1      1     11751  52.5542          D35        S  \n",
       "873              0      0       695   5.0000  B51 B53 B55        S  \n",
       "880              0      1     11767  83.1583          C50        C  \n",
       "888              0      0    112053  30.0000          B42        S  \n",
       "890              0      0    111369  30.0000         C148        C  \n",
       "\n",
       "[204 rows x 11 columns]"
      ]
     },
     "execution_count": 12,
     "metadata": {},
     "output_type": "execute_result"
    }
   ],
   "source": [
    "df_train[~df_train.Cabin.isnull()]"
   ]
  },
  {
   "cell_type": "code",
   "execution_count": 13,
   "id": "902b3b65",
   "metadata": {},
   "outputs": [
    {
     "data": {
      "text/plain": [
       "136"
      ]
     },
     "execution_count": 13,
     "metadata": {},
     "output_type": "execute_result"
    }
   ],
   "source": [
    "# Имеет смысл сохранить фичу, так как много выживших\n",
    "len(df_train[~df_train.Cabin.isnull()].loc[df_train[~df_train.Cabin.isnull()]['Survived'] == 1])"
   ]
  },
  {
   "cell_type": "code",
   "execution_count": 14,
   "id": "fda62186",
   "metadata": {},
   "outputs": [
    {
     "data": {
      "text/plain": [
       "68"
      ]
     },
     "execution_count": 14,
     "metadata": {},
     "output_type": "execute_result"
    }
   ],
   "source": [
    "# Однако не выживших тоже достаточно много. Принимаю решение дропнуть\n",
    "len(df_train[~df_train.Cabin.isnull()].loc[df_train[~df_train.Cabin.isnull()]['Survived'] == 0])"
   ]
  },
  {
   "cell_type": "code",
   "execution_count": 15,
   "id": "658bc202",
   "metadata": {},
   "outputs": [],
   "source": [
    "# С возрастом поступлю так: заменю на медиану по половому признаку, так как разброс широкий\n",
    "mean_age_female = df_train[df_train.Sex == 'female']['Age'].median()\n",
    "mean_age_male = df_train[df_train.Sex == 'male']['Age'].median()\n",
    "\n",
    "df_train['Age'] = np.where(~df_train['Age'].isnull(), df_train['Age'], \n",
    "                           np.where(df_train.Sex == 'male', mean_age_male, mean_age_female))"
   ]
  },
  {
   "cell_type": "code",
   "execution_count": 16,
   "id": "cf174ce9",
   "metadata": {},
   "outputs": [
    {
     "data": {
      "text/html": [
       "<div>\n",
       "<style scoped>\n",
       "    .dataframe tbody tr th:only-of-type {\n",
       "        vertical-align: middle;\n",
       "    }\n",
       "\n",
       "    .dataframe tbody tr th {\n",
       "        vertical-align: top;\n",
       "    }\n",
       "\n",
       "    .dataframe thead th {\n",
       "        text-align: right;\n",
       "    }\n",
       "</style>\n",
       "<table border=\"1\" class=\"dataframe\">\n",
       "  <thead>\n",
       "    <tr style=\"text-align: right;\">\n",
       "      <th></th>\n",
       "      <th>Survived</th>\n",
       "    </tr>\n",
       "    <tr>\n",
       "      <th>Embarked</th>\n",
       "      <th></th>\n",
       "    </tr>\n",
       "  </thead>\n",
       "  <tbody>\n",
       "    <tr>\n",
       "      <th>C</th>\n",
       "      <td>93</td>\n",
       "    </tr>\n",
       "    <tr>\n",
       "      <th>Q</th>\n",
       "      <td>30</td>\n",
       "    </tr>\n",
       "    <tr>\n",
       "      <th>S</th>\n",
       "      <td>217</td>\n",
       "    </tr>\n",
       "  </tbody>\n",
       "</table>\n",
       "</div>"
      ],
      "text/plain": [
       "          Survived\n",
       "Embarked          \n",
       "C               93\n",
       "Q               30\n",
       "S              217"
      ]
     },
     "execution_count": 16,
     "metadata": {},
     "output_type": "execute_result"
    }
   ],
   "source": [
    "df_train[['Survived', 'Embarked']].groupby('Embarked').sum('Survived')"
   ]
  },
  {
   "cell_type": "code",
   "execution_count": 17,
   "id": "7884ad35",
   "metadata": {},
   "outputs": [
    {
     "data": {
      "text/html": [
       "<div>\n",
       "<style scoped>\n",
       "    .dataframe tbody tr th:only-of-type {\n",
       "        vertical-align: middle;\n",
       "    }\n",
       "\n",
       "    .dataframe tbody tr th {\n",
       "        vertical-align: top;\n",
       "    }\n",
       "\n",
       "    .dataframe thead th {\n",
       "        text-align: right;\n",
       "    }\n",
       "</style>\n",
       "<table border=\"1\" class=\"dataframe\">\n",
       "  <thead>\n",
       "    <tr style=\"text-align: right;\">\n",
       "      <th></th>\n",
       "      <th>Survived</th>\n",
       "      <th>Pclass</th>\n",
       "      <th>Name</th>\n",
       "      <th>Sex</th>\n",
       "      <th>Age</th>\n",
       "      <th>SibSp</th>\n",
       "      <th>Parch</th>\n",
       "      <th>Ticket</th>\n",
       "      <th>Fare</th>\n",
       "      <th>Cabin</th>\n",
       "      <th>Embarked</th>\n",
       "    </tr>\n",
       "    <tr>\n",
       "      <th>PassengerId</th>\n",
       "      <th></th>\n",
       "      <th></th>\n",
       "      <th></th>\n",
       "      <th></th>\n",
       "      <th></th>\n",
       "      <th></th>\n",
       "      <th></th>\n",
       "      <th></th>\n",
       "      <th></th>\n",
       "      <th></th>\n",
       "      <th></th>\n",
       "    </tr>\n",
       "  </thead>\n",
       "  <tbody>\n",
       "    <tr>\n",
       "      <th>62</th>\n",
       "      <td>1</td>\n",
       "      <td>1</td>\n",
       "      <td>Icard, Miss. Amelie</td>\n",
       "      <td>female</td>\n",
       "      <td>38.0</td>\n",
       "      <td>0</td>\n",
       "      <td>0</td>\n",
       "      <td>113572</td>\n",
       "      <td>80.0</td>\n",
       "      <td>B28</td>\n",
       "      <td>NaN</td>\n",
       "    </tr>\n",
       "    <tr>\n",
       "      <th>830</th>\n",
       "      <td>1</td>\n",
       "      <td>1</td>\n",
       "      <td>Stone, Mrs. George Nelson (Martha Evelyn)</td>\n",
       "      <td>female</td>\n",
       "      <td>62.0</td>\n",
       "      <td>0</td>\n",
       "      <td>0</td>\n",
       "      <td>113572</td>\n",
       "      <td>80.0</td>\n",
       "      <td>B28</td>\n",
       "      <td>NaN</td>\n",
       "    </tr>\n",
       "  </tbody>\n",
       "</table>\n",
       "</div>"
      ],
      "text/plain": [
       "             Survived  Pclass                                       Name  \\\n",
       "PassengerId                                                                \n",
       "62                  1       1                        Icard, Miss. Amelie   \n",
       "830                 1       1  Stone, Mrs. George Nelson (Martha Evelyn)   \n",
       "\n",
       "                Sex   Age  SibSp  Parch  Ticket  Fare Cabin Embarked  \n",
       "PassengerId                                                           \n",
       "62           female  38.0      0      0  113572  80.0   B28      NaN  \n",
       "830          female  62.0      0      0  113572  80.0   B28      NaN  "
      ]
     },
     "execution_count": 17,
     "metadata": {},
     "output_type": "execute_result"
    }
   ],
   "source": [
    "df_train[df_train.Embarked.isnull()]"
   ]
  },
  {
   "cell_type": "code",
   "execution_count": 18,
   "id": "5465b173",
   "metadata": {},
   "outputs": [
    {
     "data": {
      "text/html": [
       "<div>\n",
       "<style scoped>\n",
       "    .dataframe tbody tr th:only-of-type {\n",
       "        vertical-align: middle;\n",
       "    }\n",
       "\n",
       "    .dataframe tbody tr th {\n",
       "        vertical-align: top;\n",
       "    }\n",
       "\n",
       "    .dataframe thead tr th {\n",
       "        text-align: left;\n",
       "    }\n",
       "\n",
       "    .dataframe thead tr:last-of-type th {\n",
       "        text-align: right;\n",
       "    }\n",
       "</style>\n",
       "<table border=\"1\" class=\"dataframe\">\n",
       "  <thead>\n",
       "    <tr>\n",
       "      <th></th>\n",
       "      <th colspan=\"2\" halign=\"left\">Name</th>\n",
       "      <th colspan=\"2\" halign=\"left\">Survived</th>\n",
       "    </tr>\n",
       "    <tr>\n",
       "      <th></th>\n",
       "      <th>count</th>\n",
       "      <th>sum</th>\n",
       "      <th>count</th>\n",
       "      <th>sum</th>\n",
       "    </tr>\n",
       "    <tr>\n",
       "      <th>Ticket</th>\n",
       "      <th></th>\n",
       "      <th></th>\n",
       "      <th></th>\n",
       "      <th></th>\n",
       "    </tr>\n",
       "  </thead>\n",
       "  <tbody>\n",
       "    <tr>\n",
       "      <th>110152</th>\n",
       "      <td>3</td>\n",
       "      <td>Cherry, Miss. GladysMaioni, Miss. RobertaRothe...</td>\n",
       "      <td>3</td>\n",
       "      <td>3</td>\n",
       "    </tr>\n",
       "    <tr>\n",
       "      <th>110413</th>\n",
       "      <td>3</td>\n",
       "      <td>Taussig, Mr. EmilTaussig, Mrs. Emil (Tillie Ma...</td>\n",
       "      <td>3</td>\n",
       "      <td>2</td>\n",
       "    </tr>\n",
       "    <tr>\n",
       "      <th>110465</th>\n",
       "      <td>2</td>\n",
       "      <td>Porter, Mr. Walter ChamberlainClifford, Mr. Ge...</td>\n",
       "      <td>2</td>\n",
       "      <td>0</td>\n",
       "    </tr>\n",
       "    <tr>\n",
       "      <th>110564</th>\n",
       "      <td>1</td>\n",
       "      <td>Bjornstrom-Steffansson, Mr. Mauritz Hakan</td>\n",
       "      <td>1</td>\n",
       "      <td>1</td>\n",
       "    </tr>\n",
       "    <tr>\n",
       "      <th>110813</th>\n",
       "      <td>1</td>\n",
       "      <td>Warren, Mrs. Frank Manley (Anna Sophia Atkinson)</td>\n",
       "      <td>1</td>\n",
       "      <td>1</td>\n",
       "    </tr>\n",
       "    <tr>\n",
       "      <th>...</th>\n",
       "      <td>...</td>\n",
       "      <td>...</td>\n",
       "      <td>...</td>\n",
       "      <td>...</td>\n",
       "    </tr>\n",
       "    <tr>\n",
       "      <th>W./C. 6608</th>\n",
       "      <td>4</td>\n",
       "      <td>Ford, Mr. William NealFord, Miss. Robina Maggi...</td>\n",
       "      <td>4</td>\n",
       "      <td>0</td>\n",
       "    </tr>\n",
       "    <tr>\n",
       "      <th>W./C. 6609</th>\n",
       "      <td>1</td>\n",
       "      <td>Harknett, Miss. Alice Phoebe</td>\n",
       "      <td>1</td>\n",
       "      <td>0</td>\n",
       "    </tr>\n",
       "    <tr>\n",
       "      <th>W.E.P. 5734</th>\n",
       "      <td>1</td>\n",
       "      <td>Chaffee, Mr. Herbert Fuller</td>\n",
       "      <td>1</td>\n",
       "      <td>0</td>\n",
       "    </tr>\n",
       "    <tr>\n",
       "      <th>W/C 14208</th>\n",
       "      <td>1</td>\n",
       "      <td>Harris, Mr. Walter</td>\n",
       "      <td>1</td>\n",
       "      <td>0</td>\n",
       "    </tr>\n",
       "    <tr>\n",
       "      <th>WE/P 5735</th>\n",
       "      <td>2</td>\n",
       "      <td>Crosby, Miss. Harriet RCrosby, Capt. Edward Gi...</td>\n",
       "      <td>2</td>\n",
       "      <td>1</td>\n",
       "    </tr>\n",
       "  </tbody>\n",
       "</table>\n",
       "<p>681 rows × 4 columns</p>\n",
       "</div>"
      ],
      "text/plain": [
       "             Name                                                    Survived  \\\n",
       "            count                                                sum    count   \n",
       "Ticket                                                                          \n",
       "110152          3  Cherry, Miss. GladysMaioni, Miss. RobertaRothe...        3   \n",
       "110413          3  Taussig, Mr. EmilTaussig, Mrs. Emil (Tillie Ma...        3   \n",
       "110465          2  Porter, Mr. Walter ChamberlainClifford, Mr. Ge...        2   \n",
       "110564          1          Bjornstrom-Steffansson, Mr. Mauritz Hakan        1   \n",
       "110813          1   Warren, Mrs. Frank Manley (Anna Sophia Atkinson)        1   \n",
       "...           ...                                                ...      ...   \n",
       "W./C. 6608      4  Ford, Mr. William NealFord, Miss. Robina Maggi...        4   \n",
       "W./C. 6609      1                       Harknett, Miss. Alice Phoebe        1   \n",
       "W.E.P. 5734     1                        Chaffee, Mr. Herbert Fuller        1   \n",
       "W/C 14208       1                                 Harris, Mr. Walter        1   \n",
       "WE/P 5735       2  Crosby, Miss. Harriet RCrosby, Capt. Edward Gi...        2   \n",
       "\n",
       "                 \n",
       "            sum  \n",
       "Ticket           \n",
       "110152        3  \n",
       "110413        2  \n",
       "110465        0  \n",
       "110564        1  \n",
       "110813        1  \n",
       "...          ..  \n",
       "W./C. 6608    0  \n",
       "W./C. 6609    0  \n",
       "W.E.P. 5734   0  \n",
       "W/C 14208     0  \n",
       "WE/P 5735     1  \n",
       "\n",
       "[681 rows x 4 columns]"
      ]
     },
     "execution_count": 18,
     "metadata": {},
     "output_type": "execute_result"
    }
   ],
   "source": [
    "# Билет вряд ли поможет модели\n",
    "\n",
    "df_train[['Name', 'Survived', 'Ticket']].groupby('Ticket').agg(['count', 'sum'])"
   ]
  },
  {
   "cell_type": "code",
   "execution_count": 19,
   "id": "6d2aef2b",
   "metadata": {},
   "outputs": [],
   "source": [
    "# Обе выжили, так что определим значения переменных тем, в котором выжило больше всего людей\n",
    "\n",
    "df_train['Embarked'] = np.where(~df_train['Embarked'].isnull(), df_train['Embarked'], 'S')"
   ]
  },
  {
   "cell_type": "code",
   "execution_count": 20,
   "id": "be8d7063",
   "metadata": {},
   "outputs": [],
   "source": [
    "# Удалю ненужное\n",
    "df_train.drop(['Name', 'Ticket', 'Cabin'], axis=1, inplace=True)"
   ]
  },
  {
   "cell_type": "code",
   "execution_count": 21,
   "id": "9e3ae904",
   "metadata": {},
   "outputs": [],
   "source": [
    "# Из тестовой выборки тоже\n",
    "df_test.drop(['Name', 'Ticket', 'Cabin'], axis=1, inplace=True)"
   ]
  },
  {
   "cell_type": "code",
   "execution_count": 22,
   "id": "b941c3a5",
   "metadata": {},
   "outputs": [
    {
     "name": "stdout",
     "output_type": "stream",
     "text": [
      "<class 'pandas.core.frame.DataFrame'>\n",
      "Int64Index: 891 entries, 1 to 891\n",
      "Data columns (total 8 columns):\n",
      " #   Column    Non-Null Count  Dtype  \n",
      "---  ------    --------------  -----  \n",
      " 0   Survived  891 non-null    int64  \n",
      " 1   Pclass    891 non-null    int64  \n",
      " 2   Sex       891 non-null    object \n",
      " 3   Age       891 non-null    float64\n",
      " 4   SibSp     891 non-null    int64  \n",
      " 5   Parch     891 non-null    int64  \n",
      " 6   Fare      891 non-null    float64\n",
      " 7   Embarked  891 non-null    object \n",
      "dtypes: float64(2), int64(4), object(2)\n",
      "memory usage: 62.6+ KB\n"
     ]
    }
   ],
   "source": [
    "df_train.info()"
   ]
  },
  {
   "cell_type": "code",
   "execution_count": 23,
   "id": "5aa56dec",
   "metadata": {},
   "outputs": [],
   "source": [
    "df_train['Sex'] = np.where(df_train['Sex']=='male', 1, 0)"
   ]
  },
  {
   "cell_type": "code",
   "execution_count": 24,
   "id": "9b82b8d5",
   "metadata": {},
   "outputs": [],
   "source": [
    "df_test['Sex'] = np.where(df_test['Sex']=='male', 1, 0)"
   ]
  },
  {
   "cell_type": "code",
   "execution_count": 25,
   "id": "bce4817c",
   "metadata": {},
   "outputs": [],
   "source": [
    "# one-hot\n",
    "df_train = pd.get_dummies(df_train)\n",
    "df_test = pd.get_dummies(df_test)"
   ]
  },
  {
   "cell_type": "code",
   "execution_count": 26,
   "id": "9912a2fc",
   "metadata": {},
   "outputs": [
    {
     "data": {
      "text/plain": [
       "Index(['Survived', 'Pclass', 'Sex', 'Age', 'SibSp', 'Parch', 'Fare',\n",
       "       'Embarked_C', 'Embarked_Q', 'Embarked_S'],\n",
       "      dtype='object')"
      ]
     },
     "execution_count": 26,
     "metadata": {},
     "output_type": "execute_result"
    }
   ],
   "source": [
    "df_train.columns"
   ]
  },
  {
   "cell_type": "code",
   "execution_count": 27,
   "id": "fe0ddfe9",
   "metadata": {},
   "outputs": [
    {
     "data": {
      "text/plain": [
       "Index(['Pclass', 'Sex', 'Age', 'SibSp', 'Parch', 'Fare', 'Embarked_C',\n",
       "       'Embarked_Q', 'Embarked_S'],\n",
       "      dtype='object')"
      ]
     },
     "execution_count": 27,
     "metadata": {},
     "output_type": "execute_result"
    }
   ],
   "source": [
    "df_test.columns"
   ]
  },
  {
   "cell_type": "markdown",
   "id": "73619a36",
   "metadata": {
    "id": "p1ALk_MscHJV"
   },
   "source": [
    "## Обработка фич\n",
    "\n"
   ]
  },
  {
   "cell_type": "code",
   "execution_count": 28,
   "id": "f3ab97b7",
   "metadata": {
    "id": "aa4bff52"
   },
   "outputs": [
    {
     "name": "stderr",
     "output_type": "stream",
     "text": [
      "<ipython-input-28-f31c8be2d56b>:2: FutureWarning: In a future version of pandas all arguments of DataFrame.drop except for the argument 'labels' will be keyword-only\n",
      "  train_data = df_train.drop('Survived', 1)\n"
     ]
    }
   ],
   "source": [
    "# Признаки и таргет\n",
    "train_data = df_train.drop('Survived', 1)\n",
    "train_labels = df_train['Survived']\n",
    "\n",
    "test_data = df_test\n",
    "test_labels = pd.read_csv('gender_submission.csv', index_col=0)"
   ]
  },
  {
   "cell_type": "markdown",
   "id": "bcc0a720",
   "metadata": {
    "id": "1ed6b7cd"
   },
   "source": [
    "Соотношение классов"
   ]
  },
  {
   "cell_type": "code",
   "execution_count": 29,
   "id": "6cecb96c",
   "metadata": {
    "colab": {
     "base_uri": "https://localhost:8080/"
    },
    "id": "1b86bd6a",
    "outputId": "6ecb15cd-c868-430a-e788-0773a4dd2973"
   },
   "outputs": [
    {
     "name": "stdout",
     "output_type": "stream",
     "text": [
      "df_train = 1: 0.38 \n",
      "df_train = 0: 0.62\n"
     ]
    }
   ],
   "source": [
    "print('df_train = 1: {:.2f} \\ndf_train = 0: {:.2f}'.format(sum(train_labels)/float(len(train_labels)), \n",
    "                                                        1.0 - sum(train_labels)/float(len(train_labels))))"
   ]
  },
  {
   "cell_type": "markdown",
   "id": "8ebe7950",
   "metadata": {
    "id": "5ee94a7e"
   },
   "source": [
    "Теперь посмотрим на баланс соотношения данных в трейновой и тестовой выборках"
   ]
  },
  {
   "cell_type": "code",
   "execution_count": 30,
   "id": "90e3d70d",
   "metadata": {
    "colab": {
     "base_uri": "https://localhost:8080/",
     "height": 410
    },
    "id": "ef0772c0",
    "outputId": "1f9bf907-3c85-4262-d761-8616ba76e4c8"
   },
   "outputs": [
    {
     "data": {
      "text/plain": [
       "Text(0.5, 1.0, 'Test data')"
      ]
     },
     "execution_count": 30,
     "metadata": {},
     "output_type": "execute_result"
    },
    {
     "data": {
      "image/png": "[encoded data removed]",
      "text/plain": [
       "<Figure size 1152x432 with 2 Axes>"
      ]
     },
     "metadata": {
      "needs_background": "light"
     },
     "output_type": "display_data"
    }
   ],
   "source": [
    "pylab.figure(figsize = (16, 6))\n",
    "\n",
    "pylab.subplot(1,2,1)\n",
    "pylab.hist(train_labels)\n",
    "pylab.title('Train data')\n",
    "\n",
    "pylab.subplot(1,2,2)\n",
    "pylab.hist(test_labels)\n",
    "pylab.title('Test data')"
   ]
  },
  {
   "cell_type": "code",
   "execution_count": 31,
   "id": "47d40baf",
   "metadata": {
    "id": "9552481a"
   },
   "outputs": [],
   "source": [
    "def correlated_features(data, stop=0.75):\n",
    "    correlation_matrix = data.corr()\n",
    "    correlated_features = set() \n",
    "    for i in range(len(correlation_matrix.columns)):\n",
    "        cor_pares=[]\n",
    "        for j in range(i): \n",
    "            if abs(correlation_matrix.iloc[i, j]) > stop:\n",
    "                cor_pares = (correlation_matrix.columns[i], correlation_matrix.index[j], abs(correlation_matrix.iloc[i, j]))\n",
    "                correlated_features.add(cor_pares)\n",
    "    return correlated_features"
   ]
  },
  {
   "cell_type": "code",
   "execution_count": 32,
   "id": "61192a1a",
   "metadata": {
    "id": "d494257f"
   },
   "outputs": [],
   "source": [
    "def drop_cor_features(data, correlated_features):\n",
    "    for features in correlated_features:\n",
    "        try:\n",
    "            data.drop(features[0], axis=1, inplace=True)\n",
    "        except:\n",
    "            continue"
   ]
  },
  {
   "cell_type": "code",
   "execution_count": 33,
   "id": "a9bb1e4f",
   "metadata": {
    "id": "879dbb34"
   },
   "outputs": [],
   "source": [
    "corr_features = correlated_features(train_data,  stop=0.5)"
   ]
  },
  {
   "cell_type": "code",
   "execution_count": 34,
   "id": "76759e4c",
   "metadata": {},
   "outputs": [
    {
     "data": {
      "text/plain": [
       "{('Embarked_S', 'Embarked_C', 0.7827421287187312),\n",
       " ('Fare', 'Pclass', 0.5494996199439076)}"
      ]
     },
     "execution_count": 34,
     "metadata": {},
     "output_type": "execute_result"
    }
   ],
   "source": [
    "corr_features # уберем, пожалуй"
   ]
  },
  {
   "cell_type": "code",
   "execution_count": 35,
   "id": "a64d2823",
   "metadata": {
    "id": "7cd0d858"
   },
   "outputs": [],
   "source": [
    "drop_cor_features(train_data, corr_features) \n",
    "drop_cor_features(test_data, corr_features) #Из теста также удаляем, чтобы избежать ошибки размерности"
   ]
  },
  {
   "cell_type": "code",
   "execution_count": 36,
   "id": "1a646797",
   "metadata": {
    "colab": {
     "base_uri": "https://localhost:8080/"
    },
    "id": "liCg6k6nuf5a",
    "outputId": "4a8dc247-b438-45e6-a355-28d6566eb24e"
   },
   "outputs": [
    {
     "data": {
      "text/plain": [
       "(891, 7)"
      ]
     },
     "execution_count": 36,
     "metadata": {},
     "output_type": "execute_result"
    }
   ],
   "source": [
    "train_data.shape"
   ]
  },
  {
   "cell_type": "code",
   "execution_count": 37,
   "id": "f7f6b144",
   "metadata": {
    "colab": {
     "base_uri": "https://localhost:8080/"
    },
    "id": "yOoD2RyZuf_h",
    "outputId": "1334bbcb-535c-49b7-a8bb-5c9ecddc5e14"
   },
   "outputs": [
    {
     "data": {
      "text/plain": [
       "(418, 7)"
      ]
     },
     "execution_count": 37,
     "metadata": {},
     "output_type": "execute_result"
    }
   ],
   "source": [
    "test_data.shape"
   ]
  },
  {
   "cell_type": "code",
   "execution_count": 38,
   "id": "56c3ebc2",
   "metadata": {
    "colab": {
     "base_uri": "https://localhost:8080/"
    },
    "id": "3d5ec397",
    "outputId": "5e663f23-75b9-4764-bd46-db6c98952322"
   },
   "outputs": [
    {
     "data": {
      "text/plain": [
       "True"
      ]
     },
     "execution_count": 38,
     "metadata": {},
     "output_type": "execute_result"
    }
   ],
   "source": [
    "len(correlated_features(train_data)) == 0"
   ]
  },
  {
   "cell_type": "markdown",
   "id": "1fe185ba",
   "metadata": {
    "id": "PDvkTN9bdnAu"
   },
   "source": [
    "### Дальше - выбросы, их удаление позволит чувствительным к ним алгоритмам показать лучший результат"
   ]
  },
  {
   "cell_type": "code",
   "execution_count": 39,
   "id": "ac21118e",
   "metadata": {
    "id": "38d1afa8"
   },
   "outputs": [],
   "source": [
    "df_train = train_data \n",
    "\n",
    "df_train['Survived'] = train_labels"
   ]
  },
  {
   "cell_type": "code",
   "execution_count": 40,
   "id": "9ad099de",
   "metadata": {
    "colab": {
     "base_uri": "https://localhost:8080/",
     "height": 340
    },
    "id": "57b42b8d",
    "outputId": "59c18e08-9dc9-46a2-9541-ada2ef751684",
    "scrolled": true
   },
   "outputs": [
    {
     "data": {
      "text/plain": [
       "<AxesSubplot:>"
      ]
     },
     "execution_count": 40,
     "metadata": {},
     "output_type": "execute_result"
    },
    {
     "data": {
      "image/png": "[encoded data removed]",
      "text/plain": [
       "<Figure size 432x288 with 1 Axes>"
      ]
     },
     "metadata": {
      "needs_background": "light"
     },
     "output_type": "display_data"
    }
   ],
   "source": [
    "df_train.boxplot()"
   ]
  },
  {
   "cell_type": "markdown",
   "id": "35785226",
   "metadata": {
    "id": "0c6eb2c3"
   },
   "source": [
    "Для оценки выбросов попробую использовать Z-score и One Class SVM"
   ]
  },
  {
   "cell_type": "markdown",
   "id": "ff88e27d",
   "metadata": {
    "id": "A0KwvQqTgkeP"
   },
   "source": [
    "1.   Z-score - это статистическая мера, которая показывает, насколько каждая точка удалена (в std) от среднего значения\n",
    "\n"
   ]
  },
  {
   "cell_type": "code",
   "execution_count": 41,
   "id": "19f96e71",
   "metadata": {
    "id": "27b2954b"
   },
   "outputs": [
    {
     "name": "stderr",
     "output_type": "stream",
     "text": [
      "<ipython-input-41-3a2e363fc3ce>:1: FutureWarning: In a future version of pandas all arguments of DataFrame.drop except for the argument 'labels' will be keyword-only\n",
      "  z = np.abs(stats.zscore(df_train.drop('Survived', 1)))\n"
     ]
    }
   ],
   "source": [
    "z = np.abs(stats.zscore(df_train.drop('Survived', 1)))\n",
    "threshold = 6\n",
    "train_data_z = df_train[(z < threshold).all(axis=1)]"
   ]
  },
  {
   "cell_type": "code",
   "execution_count": 42,
   "id": "ff389c37",
   "metadata": {
    "colab": {
     "base_uri": "https://localhost:8080/"
    },
    "id": "c49ccfbf",
    "outputId": "9d220f36-190a-4aec-a0d3-f0d562312e09"
   },
   "outputs": [
    {
     "data": {
      "text/plain": [
       "(883, 8)"
      ]
     },
     "execution_count": 42,
     "metadata": {},
     "output_type": "execute_result"
    }
   ],
   "source": [
    "train_data_z.shape # удалили 1% строк обучающей выборки"
   ]
  },
  {
   "cell_type": "markdown",
   "id": "b453d69e",
   "metadata": {
    "id": "0dUCcmDerI0A"
   },
   "source": [
    "Проверим наличие выбросов после применения метода"
   ]
  },
  {
   "cell_type": "code",
   "execution_count": 43,
   "id": "d4766a82",
   "metadata": {
    "colab": {
     "base_uri": "https://localhost:8080/",
     "height": 340
    },
    "id": "3309ce18",
    "outputId": "b8313a35-f4cb-47fd-b461-c84b04fddde7"
   },
   "outputs": [
    {
     "name": "stderr",
     "output_type": "stream",
     "text": [
      "<ipython-input-43-da5e0c9dac21>:1: FutureWarning: In a future version of pandas all arguments of DataFrame.drop except for the argument 'labels' will be keyword-only\n",
      "  train_data_z.drop('Survived', 1).boxplot()\n"
     ]
    },
    {
     "data": {
      "text/plain": [
       "<AxesSubplot:>"
      ]
     },
     "execution_count": 43,
     "metadata": {},
     "output_type": "execute_result"
    },
    {
     "data": {
      "image/png": "[encoded data removed]",
      "text/plain": [
       "<Figure size 432x288 with 1 Axes>"
      ]
     },
     "metadata": {
      "needs_background": "light"
     },
     "output_type": "display_data"
    }
   ],
   "source": [
    "train_data_z.drop('Survived', 1).boxplot() "
   ]
  },
  {
   "cell_type": "markdown",
   "id": "7a2fb922",
   "metadata": {
    "id": "2pCoKfnvsmZw"
   },
   "source": [
    "OC SVM - это вариант классической модели SVM, только для классификации одного класса, использующийся для определения выбросов и аномалий"
   ]
  },
  {
   "cell_type": "code",
   "execution_count": 44,
   "id": "9b517697",
   "metadata": {
    "id": "6f5eaaa9"
   },
   "outputs": [],
   "source": [
    "df_train = train_data_z"
   ]
  },
  {
   "cell_type": "code",
   "execution_count": 45,
   "id": "7403b93e",
   "metadata": {
    "id": "GN_B_PS3qNJ2"
   },
   "outputs": [
    {
     "name": "stderr",
     "output_type": "stream",
     "text": [
      "<ipython-input-45-c477f5d40d24>:1: FutureWarning: In a future version of pandas all arguments of DataFrame.drop except for the argument 'labels' will be keyword-only\n",
      "  train_data = df_train.drop('Survived', 1)\n"
     ]
    }
   ],
   "source": [
    "train_data = df_train.drop('Survived', 1)\n",
    "train_labels = df_train['Survived']"
   ]
  },
  {
   "cell_type": "code",
   "execution_count": 46,
   "id": "7c2877b7",
   "metadata": {
    "colab": {
     "base_uri": "https://localhost:8080/"
    },
    "id": "SlEE2PrCqdmC",
    "outputId": "c9e5bebb-f597-44dc-d0b8-f0bdfb1023d3"
   },
   "outputs": [
    {
     "data": {
      "text/plain": [
       "(883, 7)"
      ]
     },
     "execution_count": 46,
     "metadata": {},
     "output_type": "execute_result"
    }
   ],
   "source": [
    "train_data.shape"
   ]
  },
  {
   "cell_type": "code",
   "execution_count": 47,
   "id": "bff3f60d",
   "metadata": {
    "colab": {
     "base_uri": "https://localhost:8080/"
    },
    "id": "herDzbTpqdvI",
    "outputId": "b5ac2eff-50aa-465e-f194-9102dfb8c3f7"
   },
   "outputs": [
    {
     "data": {
      "text/plain": [
       "(883,)"
      ]
     },
     "execution_count": 47,
     "metadata": {},
     "output_type": "execute_result"
    }
   ],
   "source": [
    "train_labels.shape"
   ]
  },
  {
   "cell_type": "markdown",
   "id": "bf8f69db",
   "metadata": {
    "id": "97ea06f9"
   },
   "source": [
    "## Machine Learning"
   ]
  },
  {
   "cell_type": "markdown",
   "id": "c35170d6",
   "metadata": {
    "id": "10b06115"
   },
   "source": [
    "Функция вычисления метрик"
   ]
  },
  {
   "cell_type": "code",
   "execution_count": 48,
   "id": "2c9fa48a",
   "metadata": {},
   "outputs": [],
   "source": [
    "from sklearn.metrics import precision_score, f1_score, accuracy_score, recall_score"
   ]
  },
  {
   "cell_type": "code",
   "execution_count": 72,
   "id": "9ca1671c",
   "metadata": {},
   "outputs": [],
   "source": [
    "# Метрики оценки качества моделей\n",
    "metrics = {'F1_Score':f1_score, 'Precision': precision_score, 'Recall': recall_score, 'Accuracy': accuracy_score}"
   ]
  },
  {
   "cell_type": "code",
   "execution_count": 78,
   "id": "a69b4755",
   "metadata": {
    "id": "dabcd3c5"
   },
   "outputs": [],
   "source": [
    "def calculate_metrics(test_labels, predict_labels, metrics={}):\n",
    "    if len(metrics) == 0:\n",
    "        raise ValueError('metrics are empty')\n",
    "        \n",
    "    results = dict()\n",
    "    for key in metrics:\n",
    "        results[key] = metrics[key](test_labels, predict_labels)\n",
    "    \n",
    "    return results"
   ]
  },
  {
   "cell_type": "code",
   "execution_count": 79,
   "id": "5a4bdf7c",
   "metadata": {},
   "outputs": [],
   "source": [
    "start_time = time.time()"
   ]
  },
  {
   "cell_type": "code",
   "execution_count": 104,
   "id": "b9239534",
   "metadata": {},
   "outputs": [],
   "source": [
    "bred = LinearClassification(train_data.values, train_labels.values.reshape(train_data.shape[0], 1))\n",
    "bred_test = LinearClassification(test_data.values, test_labels.values.reshape(test_data.shape[0], 1))"
   ]
  },
  {
   "cell_type": "code",
   "execution_count": 105,
   "id": "3c59c8e9",
   "metadata": {},
   "outputs": [],
   "source": [
    "w = bred.logistic_regression(a=0.37142857142857144, iter_cnt=10000)"
   ]
  },
  {
   "cell_type": "code",
   "execution_count": 106,
   "id": "360ff867",
   "metadata": {},
   "outputs": [],
   "source": [
    "y_bred = bred_test.predict(w[0], w[1])"
   ]
  },
  {
   "cell_type": "code",
   "execution_count": 107,
   "id": "0f7f40a7",
   "metadata": {},
   "outputs": [
    {
     "name": "stdout",
     "output_type": "stream",
     "text": [
      "--- 975.9817569255829 seconds ---\n"
     ]
    }
   ],
   "source": [
    "print(\"--- %s seconds ---\" % (time.time() - start_time))"
   ]
  },
  {
   "cell_type": "code",
   "execution_count": 108,
   "id": "3ec96eaa",
   "metadata": {},
   "outputs": [],
   "source": [
    "def get_conf_matrix(Y_test, Y_pred):\n",
    "    \n",
    "    cnf_matrix = confusion_matrix(Y_test, Y_pred)\n",
    "    class_names=[0,1] # name  of classes\n",
    "    fig, ax = plt.subplots()\n",
    "    tick_marks = np.arange(len(class_names))\n",
    "    plt.xticks(tick_marks, class_names)\n",
    "    plt.yticks(tick_marks, class_names)\n",
    "    # create heatmap\n",
    "    sns.heatmap(pd.DataFrame(cnf_matrix), annot=True, cmap=\"YlGnBu\" ,fmt='g')\n",
    "    ax.xaxis.set_label_position(\"top\")\n",
    "    plt.tight_layout()\n",
    "    plt.title('Confusion matrix', y=1.1)\n",
    "    plt.ylabel('Actual label')\n",
    "    plt.xlabel('Predicted label')"
   ]
  },
  {
   "cell_type": "code",
   "execution_count": 109,
   "id": "565d0bb5",
   "metadata": {},
   "outputs": [
    {
     "data": {
      "image/png": "[encoded data removed]",
      "text/plain": [
       "<Figure size 432x288 with 2 Axes>"
      ]
     },
     "metadata": {
      "needs_background": "light"
     },
     "output_type": "display_data"
    }
   ],
   "source": [
    "get_conf_matrix(test_labels, y_bred)"
   ]
  },
  {
   "cell_type": "markdown",
   "id": "6688470a",
   "metadata": {},
   "source": [
    "$\\large accuracy = \\frac{TP + TN}{TP + TN + FP + FN}$    \n",
    "$\\large precision = \\frac{TP}{TP + FP}$    \n",
    "$\\large recall = \\frac{TP}{TP + FN}$    "
   ]
  },
  {
   "cell_type": "code",
   "execution_count": 110,
   "id": "912dc181",
   "metadata": {},
   "outputs": [
    {
     "data": {
      "text/plain": [
       "{'F1_Score': 0.82,\n",
       " 'Precision': 0.831081081081081,\n",
       " 'Recall': 0.8092105263157895,\n",
       " 'Accuracy': 0.8708133971291866}"
      ]
     },
     "execution_count": 110,
     "metadata": {},
     "output_type": "execute_result"
    }
   ],
   "source": [
    "calculate_metrics(test_labels, y_bred, metrics=metrics)"
   ]
  },
  {
   "cell_type": "code",
   "execution_count": 111,
   "id": "12d605fa",
   "metadata": {},
   "outputs": [],
   "source": [
    "w = bred.logistic_regression(a=0.45, iter_cnt=5000)"
   ]
  },
  {
   "cell_type": "code",
   "execution_count": 112,
   "id": "2d1cc00d",
   "metadata": {},
   "outputs": [],
   "source": [
    "y_bred = bred_test.predict(w[0], w[1])"
   ]
  },
  {
   "cell_type": "code",
   "execution_count": 113,
   "id": "674fc009",
   "metadata": {},
   "outputs": [
    {
     "data": {
      "image/png": "[encoded data removed]",
      "text/plain": [
       "<Figure size 432x288 with 2 Axes>"
      ]
     },
     "metadata": {
      "needs_background": "light"
     },
     "output_type": "display_data"
    }
   ],
   "source": [
    "get_conf_matrix(test_labels, y_bred)"
   ]
  },
  {
   "cell_type": "code",
   "execution_count": 114,
   "id": "326f2ab6",
   "metadata": {},
   "outputs": [
    {
     "data": {
      "text/plain": [
       "{'F1_Score': 0.7843137254901962,\n",
       " 'Precision': 0.970873786407767,\n",
       " 'Recall': 0.6578947368421053,\n",
       " 'Accuracy': 0.868421052631579}"
      ]
     },
     "execution_count": 114,
     "metadata": {},
     "output_type": "execute_result"
    }
   ],
   "source": [
    "calculate_metrics(test_labels, y_bred, metrics=metrics)"
   ]
  },
  {
   "cell_type": "code",
   "execution_count": 90,
   "id": "6b603b9f",
   "metadata": {},
   "outputs": [
    {
     "name": "stdout",
     "output_type": "stream",
     "text": [
      "0.05 {'F1_Score': 0.7461538461538462, 'Precision': 0.8981481481481481, 'Recall': 0.6381578947368421, 'Accuracy': 0.8421052631578947}\n",
      "0.1 {'F1_Score': 0.013071895424836602, 'Precision': 1.0, 'Recall': 0.006578947368421052, 'Accuracy': 0.638755980861244}\n",
      "0.15000000000000002 {'F1_Score': 0.013071895424836602, 'Precision': 1.0, 'Recall': 0.006578947368421052, 'Accuracy': 0.638755980861244}\n",
      "0.2 {'F1_Score': 0.7922077922077922, 'Precision': 0.782051282051282, 'Recall': 0.8026315789473685, 'Accuracy': 0.84688995215311}\n",
      "0.25 {'F1_Score': 0.7922077922077922, 'Precision': 0.782051282051282, 'Recall': 0.8026315789473685, 'Accuracy': 0.84688995215311}\n",
      "0.3 {'F1_Score': 0.5630630630630631, 'Precision': 0.4280821917808219, 'Recall': 0.8223684210526315, 'Accuracy': 0.5358851674641149}\n",
      "0.35000000000000003 {'F1_Score': 0.013071895424836602, 'Precision': 1.0, 'Recall': 0.006578947368421052, 'Accuracy': 0.638755980861244}\n",
      "0.4 {'F1_Score': 0.46464646464646464, 'Precision': 1.0, 'Recall': 0.3026315789473684, 'Accuracy': 0.7464114832535885}\n",
      "0.45 {'F1_Score': 0.7843137254901962, 'Precision': 0.970873786407767, 'Recall': 0.6578947368421053, 'Accuracy': 0.868421052631579}\n",
      "0.5 {'F1_Score': 0.564334085778781, 'Precision': 0.42955326460481097, 'Recall': 0.8223684210526315, 'Accuracy': 0.5382775119617225}\n"
     ]
    }
   ],
   "source": [
    "for i in np.linspace(0.05, 0.5, 10):\n",
    "    w = bred.logistic_regression(a=i, iter_cnt=5000)\n",
    "    y_bred = bred_test.predict(w[0], w[1])\n",
    "    print(i, calculate_metrics(test_labels, y_bred, metrics=metrics))"
   ]
  },
  {
   "cell_type": "code",
   "execution_count": null,
   "id": "3f8159a7",
   "metadata": {},
   "outputs": [],
   "source": []
  },
  {
   "cell_type": "code",
   "execution_count": null,
   "id": "29018773",
   "metadata": {},
   "outputs": [],
   "source": []
  }
 ],
 "metadata": {
  "kernelspec": {
   "display_name": "Python 3",
   "language": "python",
   "name": "python3"
  },
  "language_info": {
   "codemirror_mode": {
    "name": "ipython",
    "version": 3
   },
   "file_extension": ".py",
   "mimetype": "text/x-python",
   "name": "python",
   "nbconvert_exporter": "python",
   "pygments_lexer": "ipython3",
   "version": "3.8.5"
  }
 },
 "nbformat": 4,
 "nbformat_minor": 5
}
